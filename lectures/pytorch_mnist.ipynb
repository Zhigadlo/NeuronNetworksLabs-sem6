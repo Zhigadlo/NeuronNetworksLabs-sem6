{
 "cells": [
  {
   "cell_type": "code",
   "execution_count": 1,
   "metadata": {},
   "outputs": [],
   "source": [
    "import numpy as np\n",
    "import matplotlib.pyplot as plt\n",
    "import torch\n",
    "import torch.nn as nn"
   ]
  },
  {
   "cell_type": "code",
   "execution_count": 2,
   "metadata": {},
   "outputs": [],
   "source": [
    "from torch.autograd import Variable\n",
    "from torchvision import datasets\n",
    "from torchvision.transforms import ToTensor\n",
    "from torch.utils.data.sampler import SubsetRandomSampler"
   ]
  },
  {
   "cell_type": "code",
   "execution_count": 3,
   "metadata": {},
   "outputs": [],
   "source": [
    "batch_size = 32\n",
    "test_size = 10000\n",
    "valid_size = 0.2"
   ]
  },
  {
   "cell_type": "code",
   "execution_count": 4,
   "metadata": {},
   "outputs": [
    {
     "name": "stdout",
     "output_type": "stream",
     "text": [
      "torch.Size([60000, 28, 28])\n",
      "torch.Size([10000, 28, 28])\n"
     ]
    }
   ],
   "source": [
    "train_data = datasets.MNIST(root = 'data', train = True, download = True, \n",
    "                            transform = ToTensor())\n",
    "test_data = datasets.MNIST(root = 'data', train = False, download = True, \n",
    "                            transform = ToTensor())\n",
    "print(train_data.data.size())\n",
    "print(test_data.data.size())"
   ]
  },
  {
   "cell_type": "code",
   "execution_count": 5,
   "metadata": {},
   "outputs": [],
   "source": [
    "def choose_batch(batch_size_trn, batch_size_tst):\n",
    "    train_loader = torch.utils.data.DataLoader(train_data, batch_size = batch_size_trn, shuffle = True)\n",
    "    test_loader = torch.utils.data.DataLoader(test_data, batch_size = batch_size_tst, shuffle = True)\n",
    "    return train_loader, test_loader"
   ]
  },
  {
   "cell_type": "code",
   "execution_count": 6,
   "metadata": {},
   "outputs": [],
   "source": [
    "train_loader, test_loader = choose_batch(batch_size, test_size)"
   ]
  },
  {
   "cell_type": "code",
   "execution_count": 7,
   "metadata": {},
   "outputs": [
    {
     "name": "stdout",
     "output_type": "stream",
     "text": [
      "Train batch is  torch.Size([32, 1, 28, 28]) torch.Size([32])\n",
      "Test batch is  torch.Size([10000, 1, 28, 28]) torch.Size([10000])\n"
     ]
    }
   ],
   "source": [
    "batch_index, (exmpl_data, exmpl_target) = next(enumerate(train_loader))\n",
    "print(\"Train batch is \", exmpl_data.shape, exmpl_target.shape)\n",
    "\n",
    "batch_index, (exmpl_data, exmpl_target) = next(enumerate(test_loader))\n",
    "print(\"Test batch is \", exmpl_data.shape, exmpl_target.shape)"
   ]
  },
  {
   "cell_type": "code",
   "execution_count": 8,
   "metadata": {},
   "outputs": [],
   "source": [
    "class MLP(nn.Module):\n",
    "    def __init__(self, Win, W1, W2, Wout):\n",
    "        super(MLP, self).__init__()\n",
    "        self.Win = Win\n",
    "        self.layer1 = nn.Linear(Win, W1)\n",
    "        self.layer2 = nn.Linear(W1, W2)\n",
    "        self.layerout = nn.Linear(W2, Wout)\n",
    "\n",
    "    def forward(self, x):\n",
    "        x = x.view(-1, self.Win)\n",
    "        lr1 = nn.functional.relu(self.layer1(x))\n",
    "        lr2 = nn.functional.relu(self.layer2(lr1))\n",
    "        lrout = nn.functional.log_softmax(self.layerout(lr2), dim = 1)\n",
    "        return lrout"
   ]
  },
  {
   "cell_type": "code",
   "execution_count": 9,
   "metadata": {},
   "outputs": [],
   "source": [
    "def train(network, learning_rate, epochs):\n",
    "    losses, accuracies = dict(train = [], val = []), dict(train = [], val = [])\n",
    "    loss_func = nn.CrossEntropyLoss()\n",
    "    optimizer = torch.optim.SGD(network.parameters(), learning_rate)\n",
    "\n",
    "    for epoch in range(epochs):\n",
    "        network.train()\n",
    "        tr_loss = 0.0\n",
    "        tr_corr = 0\n",
    "        n_samples = 0\n",
    "        for data, label in train_loader:\n",
    "            n_samples += data.shape[0]\n",
    "            optimizer.zero_grad()\n",
    "            output = network(data)\n",
    "            _, preds = torch.max(output, 1)\n",
    "            loss = loss_func(output, label)\n",
    "            loss.backward()\n",
    "            optimizer.step()\n",
    "            tr_loss += loss.item() * data.size(0)\n",
    "            tr_corr += torch.sum(preds == label.data)\n",
    "        \n",
    "        train_loss = tr_loss / n_samples\n",
    "        train_acc = tr_corr.double() / n_samples\n",
    "        losses['train'].append(train_loss)\n",
    "        accuracies['train'].append(train_acc)\n",
    "\n",
    "        network.eval()\n",
    "\n",
    "        val_loss = 0.0\n",
    "        val_corr = 0\n",
    "        n_samples = 0\n",
    "        for data, label in test_loader:\n",
    "            n_samples += data.shape[0]\n",
    "            output = network(data)\n",
    "            _, preds = torch.max(output, 1)\n",
    "            loss = loss_func(output, label)\n",
    "            val_loss += loss.item() * data.size(0)\n",
    "            val_corr += torch.sum(preds == label.data)\n",
    "\n",
    "        valid_loss = val_loss / n_samples\n",
    "        valid_acc = val_corr.double() / n_samples\n",
    "        losses['val'].append(valid_loss)\n",
    "        accuracies['val'].append(valid_acc)\n"
   ]
  },
  {
   "cell_type": "code",
   "execution_count": null,
   "metadata": {},
   "outputs": [],
   "source": []
  }
 ],
 "metadata": {
  "kernelspec": {
   "display_name": "Python 3",
   "language": "python",
   "name": "python3"
  },
  "language_info": {
   "codemirror_mode": {
    "name": "ipython",
    "version": 3
   },
   "file_extension": ".py",
   "mimetype": "text/x-python",
   "name": "python",
   "nbconvert_exporter": "python",
   "pygments_lexer": "ipython3",
   "version": "3.10.0"
  },
  "orig_nbformat": 4,
  "vscode": {
   "interpreter": {
    "hash": "8c3d4d9970fc5c09c50d9318a9c7fbf4d0159e4b28833276f5678ee22bded273"
   }
  }
 },
 "nbformat": 4,
 "nbformat_minor": 2
}
