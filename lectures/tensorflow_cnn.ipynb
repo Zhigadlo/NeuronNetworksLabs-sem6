{
 "cells": [
  {
   "cell_type": "code",
   "execution_count": 27,
   "metadata": {},
   "outputs": [],
   "source": [
    "import tensorflow as tf\n",
    "import numpy as np\n",
    "import matplotlib.pyplot as plt\n",
    "\n",
    "from tensorflow.keras.datasets import mnist"
   ]
  },
  {
   "cell_type": "code",
   "execution_count": 28,
   "metadata": {},
   "outputs": [],
   "source": [
    "(x_trn, y_trn), (x_tst, y_tst) = mnist.load_data()"
   ]
  },
  {
   "cell_type": "code",
   "execution_count": 29,
   "metadata": {},
   "outputs": [],
   "source": [
    "num_features = 28 * 28\n",
    "num_classes = 10\n",
    "\n",
    "lr = 0.01\n",
    "epochs = 1000\n",
    "batch_size = 32\n",
    "display_epoch = 100"
   ]
  },
  {
   "cell_type": "code",
   "execution_count": 30,
   "metadata": {},
   "outputs": [],
   "source": [
    "x_train = (np.array(x_trn, np.float32)).reshape([-1, num_features]) / 255.0\n",
    "x_test = (np.array(x_tst, np.float32)).reshape([-1, num_features]) / 255.0\n",
    "\n",
    "y_train = tf.one_hot(y_trn, depth = num_classes)\n",
    "y_test = tf.one_hot(y_tst, depth = num_classes)"
   ]
  },
  {
   "cell_type": "code",
   "execution_count": 31,
   "metadata": {},
   "outputs": [],
   "source": [
    "train_data = tf.data.Dataset.from_tensor_slices((x_train, y_train))\n",
    "train_data = train_data.repeat().shuffle(5000).batch(batch_size).prefetch(1)"
   ]
  },
  {
   "cell_type": "code",
   "execution_count": 32,
   "metadata": {},
   "outputs": [],
   "source": [
    "all_losses = []\n",
    "all_accuracy = []\n",
    "all_epochs = []"
   ]
  },
  {
   "cell_type": "code",
   "execution_count": 33,
   "metadata": {},
   "outputs": [],
   "source": [
    "class Model(object):\n",
    "    def __init__(self):\n",
    "        rnd_norm = tf.initializers.RandomNormal()\n",
    "        self.W_conv1 = tf.Variable(rnd_norm([3, 3, 1, 32]))\n",
    "        self.b_conv1 = tf.Variable(tf.constant(0.1, shape = [32]))\n",
    "\n",
    "        self.W_conv2 = tf.Variable(rnd_norm([3, 3, 32, 64]))\n",
    "        self.b_conv2 = tf.Variable(tf.constant(0.1, shape = [64]))\n",
    "\n",
    "        self.W_fc1 = tf.Variable(rnd_norm([7 * 7 * 64, 128]))\n",
    "        self.b_fc1 = tf.Variable(tf.constant(0.1, shape = [128]))\n",
    "\n",
    "        self.W_fc2 = tf.Variable(rnd_norm([128, 10]))\n",
    "        self.b_fc2 = tf.Variable(tf.constant(0.1, shape = [10]))\n",
    "    \n",
    "    def forward(self, x):\n",
    "        x_image = tf.reshape(x, [-1, 28, 28, 1])\n",
    "\n",
    "        self.h_conv1 = tf.nn.relu(tf.add(tf.nn.conv2d(x_image, self.W_conv1, strides=[1, 1, 1, 1], padding='SAME'), self.b_conv1))\n",
    "        self.h_pool1 = tf.nn.max_pool(self.h_conv1, ksize=[1, 2, 2, 1], strides=[1, 2, 2, 1], padding='SAME')\n",
    "\n",
    "        self.h_conv2 = tf.nn.relu(tf.add(tf.nn.conv2d(self.h_pool1, self.W_conv2, strides=[1, 1, 1, 1], padding='SAME'), self.b_conv2))\n",
    "        self.h_pool2 = tf.nn.max_pool(self.h_conv2, ksize=[1, 2, 2, 1], strides=[1, 2, 2, 1], padding='SAME')\n",
    "\n",
    "        self.h_flat = tf.reshape(self.h_pool2, [-1, 7 * 7 * 64])\n",
    "        self.h_fc1 = tf.nn.relu(tf.add(tf.matmul(self.h_flat, self.W_fc1), self.b_fc1))\n",
    "\n",
    "        self.output = tf.nn.softmax(tf.add(tf.matmul(self.h_fc1, self.W_fc2), self.b_fc2))\n",
    "\n",
    "        return self.output"
   ]
  },
  {
   "cell_type": "code",
   "execution_count": 34,
   "metadata": {},
   "outputs": [],
   "source": [
    "model = Model()\n",
    "optimizer = tf.optimizers.SGD(lr)"
   ]
  },
  {
   "cell_type": "code",
   "execution_count": 35,
   "metadata": {},
   "outputs": [],
   "source": [
    "def loss(y_pred, y_target):\n",
    "    cross_entr = tf.reduce_mean(-tf.reduce_sum(y_target * tf.math.log(y_pred)))\n",
    "    return cross_entr"
   ]
  },
  {
   "cell_type": "code",
   "execution_count": 36,
   "metadata": {},
   "outputs": [],
   "source": [
    "def accuracy(y_pred, y_target):\n",
    "    correct_pred = tf.equal(tf.argmax(y_pred, 1), tf.argmax(y_target, 1))\n",
    "    acc = tf.reduce_mean(tf.cast(correct_pred, tf.float32))\n",
    "    return acc"
   ]
  },
  {
   "cell_type": "code",
   "execution_count": 37,
   "metadata": {},
   "outputs": [],
   "source": [
    "def optimization(x, y):\n",
    "    with tf.GradientTape() as gt:\n",
    "        p_y = model.forward(x)\n",
    "        cur_loss = loss(p_y, y)\n",
    "    trainable_variables = [model.W_conv1, model.W_conv2, model.W_fc1, model.W_fc2, model.b_conv1, model.b_conv2, model.b_fc1, model.b_fc2]\n",
    "    grad = gt.gradient(cur_loss, trainable_variables)\n",
    "    optimizer.apply_gradients(zip(grad, trainable_variables))\n",
    "    "
   ]
  },
  {
   "cell_type": "code",
   "execution_count": 38,
   "metadata": {},
   "outputs": [],
   "source": [
    "def train():\n",
    "    for epoch, (batch_x, batch_y) in enumerate(train_data.take(epochs), 1):\n",
    "        optimization(batch_x, batch_y)\n",
    "        if epoch % display_epoch == 0:\n",
    "            y_pr = model.forward(batch_x)\n",
    "            loss_res = loss(y_pr, batch_y)\n",
    "            acc_res = accuracy(y_pr, batch_y)\n",
    "            all_losses.append(loss_res)\n",
    "            all_accuracy.append(acc_res)\n",
    "            all_epochs.append(epoch)\n",
    "            print(\"Epoch {0} Loss {1} Acc {2}\".format(epoch, loss_res, acc_res))\n",
    "    \n",
    "    return model"
   ]
  },
  {
   "cell_type": "code",
   "execution_count": 39,
   "metadata": {},
   "outputs": [
    {
     "name": "stdout",
     "output_type": "stream",
     "text": [
      "Epoch 100 Loss 6.588296890258789 Acc 0.9375\n",
      "Epoch 200 Loss 1.652270793914795 Acc 1.0\n",
      "Epoch 300 Loss 1.3469871282577515 Acc 1.0\n",
      "Epoch 400 Loss 1.588355541229248 Acc 1.0\n",
      "Epoch 500 Loss 0.3085606098175049 Acc 1.0\n",
      "Epoch 600 Loss 0.35543015599250793 Acc 1.0\n",
      "Epoch 700 Loss 0.13824251294136047 Acc 1.0\n",
      "Epoch 800 Loss 0.31167519092559814 Acc 1.0\n",
      "Epoch 900 Loss 0.11289635300636292 Acc 1.0\n",
      "Epoch 1000 Loss 0.22764891386032104 Acc 1.0\n",
      "Test acc = 0.9794999957084656\n"
     ]
    }
   ],
   "source": [
    "model = train()\n",
    "\n",
    "y_pr_test = model.forward(x_test)\n",
    "acc_test = accuracy(y_pr_test, y_test)\n",
    "\n",
    "print(\"Test acc = {}\".format(acc_test))"
   ]
  }
 ],
 "metadata": {
  "kernelspec": {
   "display_name": "Python 3",
   "language": "python",
   "name": "python3"
  },
  "language_info": {
   "codemirror_mode": {
    "name": "ipython",
    "version": 3
   },
   "file_extension": ".py",
   "mimetype": "text/x-python",
   "name": "python",
   "nbconvert_exporter": "python",
   "pygments_lexer": "ipython3",
   "version": "3.10.10"
  },
  "orig_nbformat": 4,
  "vscode": {
   "interpreter": {
    "hash": "bdd3ba0a61a3359ef2c8385a88815f5ebd8e6648173c56862eb6e0bcee6b2f4b"
   }
  }
 },
 "nbformat": 4,
 "nbformat_minor": 2
}
