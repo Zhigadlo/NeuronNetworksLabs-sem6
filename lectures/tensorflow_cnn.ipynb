{
 "cells": [
  {
   "cell_type": "code",
   "execution_count": 16,
   "metadata": {},
   "outputs": [],
   "source": [
    "import tensorflow as tf\n",
    "import numpy as np\n",
    "import matplotlib.pyplot as plt\n",
    "\n",
    "from tensorflow.keras.datasets import mnist"
   ]
  },
  {
   "cell_type": "code",
   "execution_count": 17,
   "metadata": {},
   "outputs": [],
   "source": [
    "(x_trn, y_trn), (x_tst, y_tst) = mnist.load_data()"
   ]
  },
  {
   "cell_type": "code",
   "execution_count": 18,
   "metadata": {},
   "outputs": [],
   "source": [
    "num_features = 28 * 28\n",
    "num_classes = 10\n",
    "\n",
    "lr = 0.01\n",
    "epochs = 1000\n",
    "batch_size = 32\n",
    "display_epoch = 10"
   ]
  },
  {
   "cell_type": "code",
   "execution_count": 19,
   "metadata": {},
   "outputs": [],
   "source": [
    "x_train = (np.array(x_trn, np.float32)).reshape([-1, num_features]) / 255.0\n",
    "x_test = (np.array(x_tst, np.float32)).reshape([-1, num_features]) / 255.0\n",
    "\n",
    "y_train = tf.one_hot(y_trn, depth = num_classes)\n",
    "y_test = tf.one_hot(y_tst, depth = num_classes)"
   ]
  },
  {
   "cell_type": "code",
   "execution_count": 20,
   "metadata": {},
   "outputs": [],
   "source": [
    "train_data = tf.data.Dataset.from_tensor_slices((x_train, y_train))\n",
    "train_data = train_data.repeat().shuffle(5000).batch(batch_size).prefetch(1)"
   ]
  },
  {
   "cell_type": "code",
   "execution_count": 21,
   "metadata": {},
   "outputs": [],
   "source": [
    "all_losses = []\n",
    "all_accuracy = []\n",
    "all_epochs = []"
   ]
  },
  {
   "cell_type": "code",
   "execution_count": 22,
   "metadata": {},
   "outputs": [],
   "source": [
    "class Model(object):\n",
    "    def __init__(self):\n",
    "        rnd_norm = tf.initializers.RandomNormal()\n",
    "        self.W_conv1 = tf.Variable(rnd_norm([3, 3, 1, 32]))\n",
    "        self.b_conv1 = tf.Variable(tf.constant(0.1, shape = [32]))\n",
    "\n",
    "        self.W_conv2 = tf.Variable(rnd_norm([3, 3, 32, 64]))\n",
    "        self.b_conv2 = tf.Variable(tf.constant(0.1, shape = [64]))\n",
    "\n",
    "        self.W_fc1 = tf.Variable(rnd_norm([7 * 7 * 64, 128]))\n",
    "        self.b_fc1 = tf.Variable(tf.constant(0.1, shape = [128]))\n",
    "\n",
    "        self.W_fc2 = tf.Variable(rnd_norm([128, 10]))\n",
    "        self.b_fc2 = tf.Variable(tf.constant(0.1, shape = [10]))\n",
    "    \n",
    "    def forward(self, x):\n",
    "        x_image = tf.reshape(x, [-1, 28, 28, 1])\n",
    "\n",
    "        self.h_conv1 = tf.nn.relu(tf.add(tf.nn.conv2d(x_image, self.W_conv1, strides=[1, 1, 1, 1], padding='SAME'), self.b_conv1))\n",
    "        self.h_pool1 = tf.nn.max_pool(self.h_conv1, ksize=[1, 2, 2, 1], strides=[1, 2, 2, 1], padding='SAME')\n",
    "\n",
    "        self.h_conv2 = tf.nn.relu(tf.add(tf.nn.conv2d(self.h_pool1, self.W_conv2, strides=[1, 1, 1, 1], padding='SAME'), self.b_conv2))\n",
    "        self.h_pool2 = tf.nn.max_pool(self.h_conv2, ksize=[1, 2, 2, 1], strides=[1, 2, 2, 1], padding='SAME')\n",
    "\n",
    "        self.h_flat = tf.reshape(self.h_pool2, [-1, 7 * 7 * 64])\n",
    "        self.h_fc1 = tf.nn.relu(tf.add(tf.matmul(self.h_flat, self.W_fc1), self.b_fc1))\n",
    "\n",
    "        self.output = tf.nn.softmax(tf.add(tf.matmul(self.h_fc1, self.W_fc2), self.b_fc2))\n",
    "\n",
    "        return self.output"
   ]
  },
  {
   "cell_type": "code",
   "execution_count": 23,
   "metadata": {},
   "outputs": [
    {
     "name": "stderr",
     "output_type": "stream",
     "text": [
      "c:\\Users\\vladi\\AppData\\Local\\Programs\\Python\\Python310\\lib\\site-packages\\keras\\initializers\\initializers_v2.py:120: UserWarning: The initializer RandomNormal is unseeded and being called multiple times, which will return identical values  each time (even if the initializer is unseeded). Please update your code to provide a seed to the initializer, or avoid using the same initalizer instance more than once.\n",
      "  warnings.warn(\n"
     ]
    }
   ],
   "source": [
    "model = Model()\n",
    "optimizer = tf.optimizers.SGD(lr)"
   ]
  },
  {
   "cell_type": "code",
   "execution_count": 24,
   "metadata": {},
   "outputs": [],
   "source": [
    "def loss(y_pred, y_target):\n",
    "    cross_entr = tf.reduce_mean(-tf.reduce_sum(y_target * tf.math.log(y_pred)))\n",
    "    return cross_entr"
   ]
  },
  {
   "cell_type": "code",
   "execution_count": 25,
   "metadata": {},
   "outputs": [],
   "source": [
    "def accuracy(y_pred, y_target):\n",
    "    correct_pred = tf.equal(tf.argmax(y_pred, 1), tf.argmax(y_target, 1))\n",
    "    acc = tf.reduce_mean(tf.cast(correct_pred, tf.float32))\n",
    "    return acc"
   ]
  },
  {
   "cell_type": "code",
   "execution_count": 26,
   "metadata": {},
   "outputs": [],
   "source": [
    "def optimization(x, y):\n",
    "    with tf.GradientTape() as gt:\n",
    "        p_y = model.forward(x)\n",
    "        cur_loss = loss(p_y, y)\n",
    "    trainable_variables = [model.W_conv1, model.W_conv2, model.W_fc1, model.W_fc2, model.b_conv1, model.b_conv2, model.b_fc1, model.b_fc2]\n",
    "    grad = gt.gradient(cur_loss, trainable_variables)\n",
    "    optimizer.apply_gradients(zip(grad, trainable_variables))\n",
    "    "
   ]
  },
  {
   "cell_type": "code",
   "execution_count": 27,
   "metadata": {},
   "outputs": [],
   "source": [
    "def train():\n",
    "    for epoch, (batch_x, batch_y) in enumerate(train_data.take(epochs), 1):\n",
    "        optimization(batch_x, batch_y)\n",
    "        if epoch % display_epoch == 0:\n",
    "            y_pr = model.forward(batch_x)\n",
    "            loss_res = loss(y_pr, batch_y)\n",
    "            acc_res = accuracy(y_pr, batch_y)\n",
    "            all_losses.append(loss_res)\n",
    "            all_accuracy.append(acc_res)\n",
    "            all_epochs.append(epoch)\n",
    "            print(\"Epoch {0} Loss {1} Acc {2}\".format(epoch, loss_res, acc_res))\n",
    "    \n",
    "    return model"
   ]
  },
  {
   "cell_type": "code",
   "execution_count": 28,
   "metadata": {},
   "outputs": [
    {
     "name": "stdout",
     "output_type": "stream",
     "text": [
      "Epoch 10 Loss 66.61219787597656 Acc 0.25\n",
      "Epoch 20 Loss 65.4015884399414 Acc 0.3125\n",
      "Epoch 30 Loss 36.85725402832031 Acc 0.71875\n",
      "Epoch 40 Loss 38.45773696899414 Acc 0.8125\n",
      "Epoch 50 Loss 65.7440414428711 Acc 0.34375\n",
      "Epoch 60 Loss 58.22467041015625 Acc 0.28125\n",
      "Epoch 70 Loss 21.393726348876953 Acc 0.84375\n",
      "Epoch 80 Loss 54.184818267822266 Acc 0.46875\n",
      "Epoch 90 Loss 3.203191041946411 Acc 1.0\n",
      "Epoch 100 Loss 5.29616117477417 Acc 0.96875\n",
      "Epoch 110 Loss 11.561603546142578 Acc 0.9375\n",
      "Epoch 120 Loss 2.667785406112671 Acc 1.0\n",
      "Epoch 130 Loss 3.3980226516723633 Acc 1.0\n",
      "Epoch 140 Loss 6.426599979400635 Acc 0.96875\n",
      "Epoch 150 Loss 3.1517715454101562 Acc 0.9375\n",
      "Epoch 160 Loss 6.467538833618164 Acc 0.9375\n",
      "Epoch 170 Loss 0.23714129626750946 Acc 1.0\n",
      "Epoch 180 Loss 4.256927490234375 Acc 1.0\n",
      "Epoch 190 Loss 1.2389869689941406 Acc 1.0\n",
      "Epoch 200 Loss 0.8269758224487305 Acc 1.0\n",
      "Epoch 210 Loss 0.7904132008552551 Acc 1.0\n",
      "Epoch 220 Loss 0.9729567766189575 Acc 1.0\n",
      "Epoch 230 Loss 2.974442958831787 Acc 0.96875\n",
      "Epoch 240 Loss 0.6530538201332092 Acc 1.0\n",
      "Epoch 250 Loss 1.4558382034301758 Acc 1.0\n",
      "Epoch 260 Loss 0.7105252146720886 Acc 1.0\n",
      "Epoch 270 Loss 1.3676977157592773 Acc 1.0\n",
      "Epoch 280 Loss 1.815797209739685 Acc 1.0\n",
      "Epoch 290 Loss 1.3447701930999756 Acc 0.96875\n",
      "Epoch 300 Loss 0.3701953887939453 Acc 1.0\n",
      "Epoch 310 Loss 2.3507750034332275 Acc 1.0\n",
      "Epoch 320 Loss 1.293323040008545 Acc 1.0\n",
      "Epoch 330 Loss 0.40213680267333984 Acc 1.0\n",
      "Epoch 340 Loss 0.32061830163002014 Acc 1.0\n",
      "Epoch 350 Loss 0.594206690788269 Acc 1.0\n",
      "Epoch 360 Loss 1.4857690334320068 Acc 1.0\n",
      "Epoch 370 Loss 1.141509771347046 Acc 1.0\n",
      "Epoch 380 Loss 0.5052700042724609 Acc 1.0\n",
      "Epoch 390 Loss 0.3593400716781616 Acc 1.0\n",
      "Epoch 400 Loss 1.2907423973083496 Acc 1.0\n",
      "Epoch 410 Loss 0.5133891701698303 Acc 1.0\n",
      "Epoch 420 Loss 2.2463409900665283 Acc 0.96875\n",
      "Epoch 430 Loss 0.3733045160770416 Acc 1.0\n",
      "Epoch 440 Loss 10.050228118896484 Acc 0.90625\n",
      "Epoch 450 Loss 0.25050070881843567 Acc 1.0\n",
      "Epoch 460 Loss 0.39938780665397644 Acc 1.0\n",
      "Epoch 470 Loss 4.031956195831299 Acc 0.90625\n",
      "Epoch 480 Loss 1.8080922365188599 Acc 0.96875\n",
      "Epoch 490 Loss 0.9190562963485718 Acc 1.0\n",
      "Epoch 500 Loss 0.1633671224117279 Acc 1.0\n",
      "Epoch 510 Loss 1.0301001071929932 Acc 1.0\n",
      "Epoch 520 Loss 2.144258499145508 Acc 0.96875\n",
      "Epoch 530 Loss 0.5428102016448975 Acc 1.0\n",
      "Epoch 540 Loss 0.22181284427642822 Acc 1.0\n",
      "Epoch 550 Loss 0.14828677475452423 Acc 1.0\n",
      "Epoch 560 Loss 0.07591570913791656 Acc 1.0\n",
      "Epoch 570 Loss 0.392204612493515 Acc 1.0\n",
      "Epoch 580 Loss 0.1568537950515747 Acc 1.0\n",
      "Epoch 590 Loss 0.1530974805355072 Acc 1.0\n",
      "Epoch 600 Loss 0.09222308546304703 Acc 1.0\n",
      "Epoch 610 Loss 0.2015538215637207 Acc 1.0\n",
      "Epoch 620 Loss 0.37284964323043823 Acc 1.0\n",
      "Epoch 630 Loss 0.7035203576087952 Acc 1.0\n",
      "Epoch 640 Loss 1.0238276720046997 Acc 1.0\n",
      "Epoch 650 Loss 0.10095140337944031 Acc 1.0\n",
      "Epoch 660 Loss 0.15556606650352478 Acc 1.0\n",
      "Epoch 670 Loss 0.42071834206581116 Acc 1.0\n",
      "Epoch 680 Loss 0.28595930337905884 Acc 1.0\n",
      "Epoch 690 Loss 0.1419026255607605 Acc 1.0\n",
      "Epoch 700 Loss 0.4352070391178131 Acc 1.0\n",
      "Epoch 710 Loss 0.13643348217010498 Acc 1.0\n",
      "Epoch 720 Loss 0.4524308145046234 Acc 1.0\n",
      "Epoch 730 Loss 0.14569073915481567 Acc 1.0\n",
      "Epoch 740 Loss 0.050954412668943405 Acc 1.0\n",
      "Epoch 750 Loss 0.21840354800224304 Acc 1.0\n",
      "Epoch 760 Loss 0.621366560459137 Acc 1.0\n",
      "Epoch 770 Loss 0.21624982357025146 Acc 1.0\n",
      "Epoch 780 Loss 0.3147946000099182 Acc 1.0\n",
      "Epoch 790 Loss 0.0901191234588623 Acc 1.0\n",
      "Epoch 800 Loss 0.15989284217357635 Acc 1.0\n",
      "Epoch 810 Loss 0.26559656858444214 Acc 1.0\n",
      "Epoch 820 Loss 0.24084994196891785 Acc 1.0\n",
      "Epoch 830 Loss 0.246911883354187 Acc 1.0\n",
      "Epoch 840 Loss 0.18271812796592712 Acc 1.0\n",
      "Epoch 850 Loss 3.0193893909454346 Acc 0.96875\n",
      "Epoch 860 Loss 0.48597240447998047 Acc 1.0\n",
      "Epoch 870 Loss 0.14932385087013245 Acc 1.0\n",
      "Epoch 880 Loss 0.7203929424285889 Acc 1.0\n",
      "Epoch 890 Loss 0.21013113856315613 Acc 1.0\n",
      "Epoch 900 Loss 0.5707370638847351 Acc 1.0\n",
      "Epoch 910 Loss 0.14276275038719177 Acc 1.0\n",
      "Epoch 920 Loss 0.11479395627975464 Acc 1.0\n",
      "Epoch 930 Loss 0.17399713397026062 Acc 1.0\n",
      "Epoch 940 Loss 0.25297796726226807 Acc 1.0\n",
      "Epoch 950 Loss 0.03775622695684433 Acc 1.0\n",
      "Epoch 960 Loss 0.12324279546737671 Acc 1.0\n",
      "Epoch 970 Loss 0.09406916797161102 Acc 1.0\n",
      "Epoch 980 Loss 0.26626914739608765 Acc 1.0\n",
      "Epoch 990 Loss 0.7056529521942139 Acc 1.0\n",
      "Epoch 1000 Loss 2.9800491333007812 Acc 0.96875\n",
      "Test acc = 0.9714999794960022\n"
     ]
    }
   ],
   "source": [
    "model = train()\n",
    "\n",
    "y_pr_test = model.forward(x_test)\n",
    "acc_test = accuracy(y_pr_test, y_test)\n",
    "\n",
    "print(\"Test acc = {}\".format(acc_test))"
   ]
  },
  {
   "cell_type": "code",
   "execution_count": 29,
   "metadata": {},
   "outputs": [
    {
     "data": {
      "image/png": "[encoded data removed]",
      "text/plain": [
       "<Figure size 1000x500 with 1 Axes>"
      ]
     },
     "metadata": {},
     "output_type": "display_data"
    }
   ],
   "source": [
    "fig, axs = plt.subplots(figsize = (10, 5))\n",
    "plt.plot(all_epochs, all_losses, 'g-', label = 'loss')\n",
    "plt.plot(all_epochs, all_accuracy, 'b-', label = 'acc')\n",
    "plt.legend()\n",
    "plt.show()"
   ]
  }
 ],
 "metadata": {
  "kernelspec": {
   "display_name": "Python 3",
   "language": "python",
   "name": "python3"
  },
  "language_info": {
   "codemirror_mode": {
    "name": "ipython",
    "version": 3
   },
   "file_extension": ".py",
   "mimetype": "text/x-python",
   "name": "python",
   "nbconvert_exporter": "python",
   "pygments_lexer": "ipython3",
   "version": "3.10.10"
  },
  "orig_nbformat": 4,
  "vscode": {
   "interpreter": {
    "hash": "bdd3ba0a61a3359ef2c8385a88815f5ebd8e6648173c56862eb6e0bcee6b2f4b"
   }
  }
 },
 "nbformat": 4,
 "nbformat_minor": 2
}
